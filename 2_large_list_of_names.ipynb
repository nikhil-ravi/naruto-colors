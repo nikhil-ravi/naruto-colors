{
 "cells": [
  {
   "cell_type": "code",
   "execution_count": 1,
   "metadata": {},
   "outputs": [],
   "source": [
    "import io\n",
    "import requests\n",
    "\n",
    "import pandas as pd"
   ]
  },
  {
   "cell_type": "markdown",
   "metadata": {},
   "source": [
    "Get the Large List of Named numbers from http://mkweb.bcgsc.ca/colornames/color.names.txt"
   ]
  },
  {
   "cell_type": "code",
   "execution_count": 9,
   "metadata": {},
   "outputs": [],
   "source": [
    "req = requests.get(\"http://mkweb.bcgsc.ca/colornames/color.names.txt\")\n",
    "# Remove all lines that start with a '#'. These are comments in the file\n",
    "comments = [line for line in req.text.split(\"\\n\") if line.startswith(\"#\")]\n",
    "color_lines = [line for line in req.text.split(\"\\n\") if not line.startswith(\"#\")]\n",
    "# Create a dataframe with the color names\n",
    "colors = pd.read_csv(\n",
    "    io.StringIO(\"\\n\".join(color_lines)), sep=\" \", header=None, index_col=0\n",
    ")"
   ]
  },
  {
   "cell_type": "code",
   "execution_count": 10,
   "metadata": {},
   "outputs": [
    {
     "name": "stdout",
     "output_type": "stream",
     "text": [
      "#################################################################\n",
      "#\n",
      "# Comprehensive list of color names and their color space coordinates\n",
      "#\n",
      "# 9,284 colors\n",
      "#\n",
      "# Sources: bang-v2, colorhexa, crayola, n3, \n",
      "#          ntc, pantone, raveling, resene, rgb.txt,\n",
      "#          steve.hollasch, wikipedia, xkcd\n",
      "#\n",
      "# Martin Krzywinski\n",
      "# http://mkweb.bcgsc.ca/colornames\n",
      "# v0.33\n",
      "# 16 Oct 2017\n",
      "#\n",
      "# The fields are\n",
      "#\n",
      "# rgb R G B hex HEX h s v H S V xyz X Y Z lab L A B lch L C H cmyk C M Y K \n",
      "#   NEIGHBOUR_STR NUM_NEIGHBOURS_MAXDE WORD_TAGS\n",
      "#\n",
      "# where\n",
      "#\n",
      "#    R G B components in RGB color space\n",
      "#      HEX encoding of RGB values (without leading #)\n",
      "#    H S V components in HSV color space\n",
      "#    X Y Z components in XYZ color space\n",
      "#    L A B components in Lab color space\n",
      "#    L C H components in LCH (LCHab) color space\n",
      "#  C M Y K components in CMYK color space\n",
      "#\n",
      "#  NEIGHBOUR_STR list of 5 nearest colors from the color name database (see below)\n",
      "#    as a list using : separator\n",
      "#\n",
      "#    n1:n2:n3:n4:n5\n",
      "#\n",
      "#  where each ni entry is\n",
      "#\n",
      "#    NAME[IDX][R,G,B](DELTAE)\n",
      "#\n",
      "#    NAME   name of neighbour\n",
      "#    IDX    index of neighbour, as used in the color name lookup file\n",
      "#    R G B   components of neighbour in RGB color space\n",
      "#    deltaE  distance between the color and the neighbour in Lab color space\n",
      "#\n",
      "#  NUM_NEIGHBOURS_MAXDE number of neighbours with deltaE <= 5. These are used for WORDS_TAGS below\n",
      "#\n",
      "#  WORD_TAGS list of unique words seen in names of neighbours with deltaE < 5. If\n",
      "#  no neighbours within deltaE < 5 are found, the nearest neighbour is used.\n",
      "#\n",
      "#\n",
      "# The WORD_TAGS are your best bet for the name of the RGB color. \n",
      "# Depending on the neighbours, similar hues may appear (e.g. red, rose).\n",
      "#\n",
      "################################################################\n",
      "#\n",
      "# The color name database is always available at\n",
      "#\n",
      "# http://mkweb.bcgsc.ca/colornames/color.names.txt\n",
      "#\n",
      "################################################################\n"
     ]
    }
   ],
   "source": [
    "print(\"\\n\".join(comments))"
   ]
  },
  {
   "cell_type": "code",
   "execution_count": 11,
   "metadata": {},
   "outputs": [],
   "source": [
    "# Using the comments above, we can create a header row for the dataframe\n",
    "header = [\n",
    "    \"name\",\n",
    "    \"rgb_head\",\n",
    "    \"rgb_R\",\n",
    "    \"rgb_G\",\n",
    "    \"rgb_B\",\n",
    "    \"hex_head\",\n",
    "    \"hex\",\n",
    "    \"hsv_head\",\n",
    "    \"hsv_H\",\n",
    "    \"hsv_S\",\n",
    "    \"hsv_V\",\n",
    "    \"xyz_head\",\n",
    "    \"xyz_X\",\n",
    "    \"xyz_Y\",\n",
    "    \"xyz_Z\",\n",
    "    \"lab_head\",\n",
    "    \"lab_L\",\n",
    "    \"lab_a\",\n",
    "    \"lab_b\",\n",
    "    \"lch_head\",\n",
    "    \"lch_L\",\n",
    "    \"lch_C\",\n",
    "    \"lch_h\",\n",
    "    \"cmyk_head\",\n",
    "    \"cmyk_C\",\n",
    "    \"cmyk_M\",\n",
    "    \"cmyk_Y\",\n",
    "    \"cmyk_K\",\n",
    "    \"nearest_neighbours\",\n",
    "    \"num_nearest_neighbours_within_5\",\n",
    "    \"num_nearest_neighbours_within_5_names\",\n",
    "]\n",
    "colors.columns = header"
   ]
  },
  {
   "cell_type": "code",
   "execution_count": 12,
   "metadata": {},
   "outputs": [],
   "source": [
    "# All columns which have the same value for all rows\n",
    "columns_to_drop = colors.columns[colors.nunique() == 1]\n",
    "colors = colors.drop(columns=columns_to_drop)"
   ]
  },
  {
   "cell_type": "code",
   "execution_count": 13,
   "metadata": {},
   "outputs": [],
   "source": [
    "colors.to_csv(\"./data/colors.names.csv\", index=False)"
   ]
  },
  {
   "cell_type": "code",
   "execution_count": null,
   "metadata": {},
   "outputs": [],
   "source": []
  }
 ],
 "metadata": {
  "kernelspec": {
   "display_name": "hp",
   "language": "python",
   "name": "python3"
  },
  "language_info": {
   "codemirror_mode": {
    "name": "ipython",
    "version": 3
   },
   "file_extension": ".py",
   "mimetype": "text/x-python",
   "name": "python",
   "nbconvert_exporter": "python",
   "pygments_lexer": "ipython3",
   "version": "3.11.5"
  }
 },
 "nbformat": 4,
 "nbformat_minor": 2
}
